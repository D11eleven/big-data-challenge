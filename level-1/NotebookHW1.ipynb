{
 "cells": [
  {
   "cell_type": "code",
   "execution_count": 1,
   "metadata": {
    "colab": {
     "base_uri": "https://localhost:8080/"
    },
    "id": "5WosHdRWdmpw",
    "outputId": "1a38a4bf-5402-4ee8-accb-b7f097a23b89"
   },
   "outputs": [
    {
     "name": "stdout",
     "output_type": "stream",
     "text": [
      "Hit:1 https://cloud.r-project.org/bin/linux/ubuntu bionic-cran40/ InRelease\n",
      "Ign:2 https://developer.download.nvidia.com/compute/cuda/repos/ubuntu1804/x86_64  InRelease\n",
      "Hit:3 http://ppa.launchpad.net/c2d4u.team/c2d4u4.0+/ubuntu bionic InRelease\n",
      "Hit:4 http://archive.ubuntu.com/ubuntu bionic InRelease\n",
      "Get:5 http://security.ubuntu.com/ubuntu bionic-security InRelease [88.7 kB]\n",
      "Ign:6 https://developer.download.nvidia.com/compute/machine-learning/repos/ubuntu1804/x86_64  InRelease\n",
      "Get:7 http://archive.ubuntu.com/ubuntu bionic-updates InRelease [88.7 kB]\n",
      "Hit:8 https://developer.download.nvidia.com/compute/cuda/repos/ubuntu1804/x86_64  Release\n",
      "Hit:9 https://developer.download.nvidia.com/compute/machine-learning/repos/ubuntu1804/x86_64  Release\n",
      "Hit:10 http://ppa.launchpad.net/cran/libgit2/ubuntu bionic InRelease\n",
      "Hit:11 http://ppa.launchpad.net/deadsnakes/ppa/ubuntu bionic InRelease\n",
      "Get:12 http://archive.ubuntu.com/ubuntu bionic-backports InRelease [74.6 kB]\n",
      "Hit:13 http://ppa.launchpad.net/graphics-drivers/ppa/ubuntu bionic InRelease\n",
      "Fetched 252 kB in 2s (107 kB/s)\n",
      "Reading package lists... Done\n"
     ]
    }
   ],
   "source": [
    "import os\n",
    "# Find the latest version of spark 3.0  from http://www.apache.org/dist/spark/ and enter as the spark version\n",
    "# For example:\n",
    "# spark_version = 'spark-3.0.3'\n",
    "spark_version = 'spark-3.2.0'\n",
    "os.environ['SPARK_VERSION']=spark_version\n",
    "\n",
    "# Install Spark and Java\n",
    "!apt-get update\n",
    "!apt-get install openjdk-8-jdk-headless -qq > /dev/null\n",
    "!wget -q http://www.apache.org/dist/spark/$SPARK_VERSION/$SPARK_VERSION-bin-hadoop2.7.tgz\n",
    "!tar xf $SPARK_VERSION-bin-hadoop2.7.tgz\n",
    "!pip install -q findspark\n",
    "\n",
    "# Set Environment Variables\n",
    "os.environ[\"JAVA_HOME\"] = \"/usr/lib/jvm/java-8-openjdk-amd64\"\n",
    "os.environ[\"SPARK_HOME\"] = f\"/content/{spark_version}-bin-hadoop2.7\"\n",
    "\n",
    "# Start a SparkSession\n",
    "import findspark\n",
    "findspark.init()"
   ]
  },
  {
   "cell_type": "code",
   "execution_count": 2,
   "metadata": {
    "colab": {
     "base_uri": "https://localhost:8080/"
    },
    "id": "xISV-9eR6Yah",
    "outputId": "a7f6d80c-757f-4ff5-bc7f-99b96a1a426c"
   },
   "outputs": [
    {
     "name": "stdout",
     "output_type": "stream",
     "text": [
      "--2021-12-05 04:41:40--  https://jdbc.postgresql.org/download/postgresql-42.2.9.jar\n",
      "Resolving jdbc.postgresql.org (jdbc.postgresql.org)... 72.32.157.228, 2001:4800:3e1:1::228\n",
      "Connecting to jdbc.postgresql.org (jdbc.postgresql.org)|72.32.157.228|:443... connected.\n",
      "HTTP request sent, awaiting response... 200 OK\n",
      "Length: 914037 (893K) [application/java-archive]\n",
      "Saving to: ‘postgresql-42.2.9.jar.3’\n",
      "\n",
      "postgresql-42.2.9.j 100%[===================>] 892.61K  5.26MB/s    in 0.2s    \n",
      "\n",
      "2021-12-05 04:41:41 (5.26 MB/s) - ‘postgresql-42.2.9.jar.3’ saved [914037/914037]\n",
      "\n"
     ]
    }
   ],
   "source": [
    "!wget https://jdbc.postgresql.org/download/postgresql-42.2.9.jar"
   ]
  },
  {
   "cell_type": "code",
   "execution_count": 3,
   "metadata": {
    "id": "aEQFTWiV6g2h"
   },
   "outputs": [],
   "source": [
    "from pyspark.sql import SparkSession\n",
    "spark = SparkSession.builder.appName(\"CloudETL\").config(\"spark.driver.extraClassPath\",\"/content/postgresql-42.2.9.jar\").getOrCreate()"
   ]
  },
  {
   "cell_type": "code",
   "execution_count": 4,
   "metadata": {
    "id": "e3WG0BBzzpkt"
   },
   "outputs": [],
   "source": [
    "from pyspark.sql import SparkSession\n",
    "spark = SparkSession.builder.appName(\"CloudETL\").config(\"spark.driver.extraClassPath\",\"/content/postgresql-42.2.9.jar\").getOrCreate()"
   ]
  },
  {
   "cell_type": "code",
   "execution_count": 5,
   "metadata": {
    "colab": {
     "base_uri": "https://localhost:8080/"
    },
    "id": "qik6uGSV9BWa",
    "outputId": "1976ca0d-3fa1-4c48-fc41-196e59f16817"
   },
   "outputs": [
    {
     "name": "stdout",
     "output_type": "stream",
     "text": [
      "+-----------+-----------+--------------+----------+--------------+--------------------+----------------+-----------+-------------+-----------+----+-----------------+--------------------+--------------------+-----------+\n",
      "|marketplace|customer_id|     review_id|product_id|product_parent|       product_title|product_category|star_rating|helpful_votes|total_votes|vine|verified_purchase|     review_headline|         review_body|review_date|\n",
      "+-----------+-----------+--------------+----------+--------------+--------------------+----------------+-----------+-------------+-----------+----+-----------------+--------------------+--------------------+-----------+\n",
      "|         US|   32787517| RED72VWWCOS7S|B008HDQYLQ|     348668413|Garden Weasel Gar...| Lawn and Garden|          1|            2|          8|   N|                Y|            One Star|I don't hate the ...| 2015-08-31|\n",
      "|         US|   16374060| RZHWQ208LTEPV|B005OBZBD6|     264704759|10 Foot Mc4 Solar...| Lawn and Garden|          5|            0|          0|   N|                Y|          Five Stars|        worked great| 2015-08-31|\n",
      "|         US|    9984817|R37LBC3XAVLYOO|B00RQL8U2G|      95173602|GE String A Long ...| Lawn and Garden|          5|            4|          5|   N|                Y|just what i neede...|just what i neede...| 2015-08-31|\n",
      "|         US|   12635190|R3L7XJMA0MVJWC|B0081SBO4Y|     835659279|Key Pair Lawn Wit...| Lawn and Garden|          5|            0|          0|   N|                Y|                Keys|Needed replacemen...| 2015-08-31|\n",
      "|         US|   43905102|R2I2GHSI7T1UBN|B008E6OK3U|     539243347|Zodiac R0502300 L...| Lawn and Garden|          1|            5|          6|   N|                Y|       Too expensive|Assuming you don'...| 2015-08-31|\n",
      "|         US|   52596997|R2GFFKHK4I6VMX|B00W6NTULY|     337446474|Hirts Gardens Swe...| Lawn and Garden|          5|            0|          0|   N|                Y|                Nice|Beautifully packa...| 2015-08-31|\n",
      "|         US|   43871104|R1R0UDX2XAN1S4|B00GXUMYKA|     468857193|AGPtEK 12 PCS Smo...| Lawn and Garden|          4|            0|          0|   N|                Y|These were pretty...|These were pretty...| 2015-08-31|\n",
      "|         US|   11346008|R22C8FMBSTFRY8|B005EIX8JS|     125753094|Design Toscano Ea...| Lawn and Garden|          5|            2|          2|   N|                Y|Kids love it. WIs...|Its in the center...| 2015-08-31|\n",
      "|         US|   49206471|R118NNIQ75XPGO|B000HJBKMQ|     834273114|TERRO T300 Liquid...| Lawn and Garden|          3|            0|          0|   N|                Y|      A little messy|The ants were att...| 2015-08-31|\n",
      "|         US|   37596267|R30HYXHZQ49621|B004LY59V6|     612086079|BLACK+DECKER LBXR...| Lawn and Garden|          2|            0|          0|   N|                Y|Does not hold a c...|This is advertise...| 2015-08-31|\n",
      "|         US|   31554283|R3EMLKY0GF1E90|B00CAVM85M|     280334010|Reach 'n Spray Pe...| Lawn and Garden|          5|            0|          0|   N|                Y|          Five Stars|Well made product...| 2015-08-31|\n",
      "|         US|   43211735|R23BX7EGJMGQJR|B00DP6X1LG|     233116679|Puro-Kleen Ultra-...| Lawn and Garden|          5|            1|          2|   N|                Y|It's easy to cut ...|I used this for a...| 2015-08-31|\n",
      "|         US|   25705116|R2Z4B6SDEAZF6E|B00025H2PY|     592807498|Diatomaceous Eart...| Lawn and Garden|          5|            0|          0|   N|                Y|          Five Stars|Great stuff. Gets...| 2015-08-31|\n",
      "|         US|   47041108|R35289PGJERP5J|B0079GHJXY|     408290044|Perky-Pet 312C Pa...| Lawn and Garden|          5|            0|          0|   N|                Y|          Five Stars|   Very good quality| 2015-08-31|\n",
      "|         US|    1534667|R39BPRMDKKIZL2|B004HFJ762|     404737140|Crossbow Dow Spec...| Lawn and Garden|          1|            4|          6|   N|                Y|Wrong Product- No...|This product was ...| 2015-08-31|\n",
      "|         US|   52287759| R6WFPPBS1DZMG|B00004RAGL|     773636542|Apex REM 15 15-Fo...| Lawn and Garden|          5|            0|          0|   N|                Y|dehumidifier drai...|the hose worked w...| 2015-08-31|\n",
      "|         US|   37010286| RK72M0ZBV9YLS|B010PWBNNK|     461072629|Elucto Electric B...| Lawn and Garden|          1|            3|          3|   N|                Y|   not easy it seems|I haven't killed ...| 2015-08-31|\n",
      "|         US|   30576559| RX5G150AUWRDJ|B00T77AWY6|     365662076|Ohuhu® 100 Ft Exp...| Lawn and Garden|          1|            0|          0|   N|                Y|          Five Stars|I m very disappoi...| 2015-08-31|\n",
      "|         US|   10291713|R1TMSZWIT21A31|B000UJH6HQ|     228393894|Toro 53746 Drip B...| Lawn and Garden|          3|            1|          2|   N|                Y|     Could be better|this is the fourt...| 2015-08-31|\n",
      "|         US|   50656780|R2FURVPW763CIM|B000HJBKMQ|     834273114|TERRO T300 Liquid...| Lawn and Garden|          5|            0|          0|   N|                Y|Sugar Ants are ho...|Best thing you ca...| 2015-08-31|\n",
      "+-----------+-----------+--------------+----------+--------------+--------------------+----------------+-----------+-------------+-----------+----+-----------------+--------------------+--------------------+-----------+\n",
      "only showing top 20 rows\n",
      "\n"
     ]
    }
   ],
   "source": [
    "# Read in data from S3 Buckets\n",
    "from pyspark import SparkFiles\n",
    "url=\"https://dshbigdatahw.s3.us-east-2.amazonaws.com/amazon_reviews_us_Lawn_and_Garden_v1_00.tsv.gz\"\n",
    "# https://dshactivity3-2021.s3.us-east-2.amazonaws.com/user_data.csv\n",
    "spark.sparkContext.addFile(url)\n",
    "review_df = spark.read.csv(SparkFiles.get(\"amazon_reviews_us_Lawn_and_Garden_v1_00.tsv.gz\"), sep=\"\\t\", header=True, inferSchema=True)\n",
    "\n",
    "# Show DataFrame\n",
    "review_df.show()"
   ]
  },
  {
   "cell_type": "code",
   "execution_count": 5,
   "metadata": {
    "id": "yPd0Hmj4fS22"
   },
   "outputs": [],
   "source": []
  },
  {
   "cell_type": "code",
   "execution_count": 6,
   "metadata": {
    "colab": {
     "base_uri": "https://localhost:8080/"
    },
    "id": "10qoqQv3_Y_w",
    "outputId": "827c6c45-53e4-43e0-d948-5dba2190f729"
   },
   "outputs": [
    {
     "name": "stdout",
     "output_type": "stream",
     "text": [
      "2557288\n",
      "2557005\n",
      "2557005\n"
     ]
    }
   ],
   "source": [
    "print(review_df.count())\n",
    "clean_review_df = review_df.dropna()\n",
    "print(clean_review_df.count())\n",
    "cleaner_review_df = clean_review_df.dropDuplicates()\n",
    "print(cleaner_review_df.count())\n"
   ]
  },
  {
   "cell_type": "code",
   "execution_count": 6,
   "metadata": {
    "id": "FXNoC3ZJfUrq"
   },
   "outputs": [],
   "source": []
  },
  {
   "cell_type": "code",
   "execution_count": 7,
   "metadata": {
    "colab": {
     "base_uri": "https://localhost:8080/"
    },
    "id": "SXtPi-Hw_dCe",
    "outputId": "719048e9-5ed3-482e-f20a-a959a3a928cf"
   },
   "outputs": [
    {
     "name": "stdout",
     "output_type": "stream",
     "text": [
      "root\n",
      " |-- marketplace: string (nullable = true)\n",
      " |-- customer_id: integer (nullable = true)\n",
      " |-- review_id: string (nullable = true)\n",
      " |-- product_id: string (nullable = true)\n",
      " |-- product_parent: integer (nullable = true)\n",
      " |-- product_title: string (nullable = true)\n",
      " |-- product_category: string (nullable = true)\n",
      " |-- star_rating: integer (nullable = true)\n",
      " |-- helpful_votes: integer (nullable = true)\n",
      " |-- total_votes: integer (nullable = true)\n",
      " |-- vine: string (nullable = true)\n",
      " |-- verified_purchase: string (nullable = true)\n",
      " |-- review_headline: string (nullable = true)\n",
      " |-- review_body: string (nullable = true)\n",
      " |-- review_date: string (nullable = true)\n",
      "\n"
     ]
    }
   ],
   "source": [
    "cleaner_review_df.printSchema()\n"
   ]
  },
  {
   "cell_type": "code",
   "execution_count": 7,
   "metadata": {
    "id": "mwHua-Lf8bs9"
   },
   "outputs": [],
   "source": []
  },
  {
   "cell_type": "code",
   "execution_count": 8,
   "metadata": {
    "id": "gpCse4fFCk9B"
   },
   "outputs": [],
   "source": [
    "\n",
    "# from pyspark.sql.types import IntegerType,BooleanType,DateType\n",
    "# # Convert String to Integer Type\n",
    "# df.withColumn(\"age\",df.age.cast(IntegerType()))\n",
    "# df.withColumn(\"age\",df.age.cast('int'))\n",
    "# df.withColumn(\"age\",df.age.cast('integer'))\n",
    "\n",
    "# # Using select\n",
    "# df.select(col(\"age\").cast('int').alias(\"age\"))\n",
    "\n",
    "# #Using selectExpr()\n",
    "# df.selectExpr(\"cast(age as int) age\")\n",
    "\n",
    "# #Using with spark.sql()\n",
    "# spark.sql(\"SELECT INT(age),BOOLEAN(isGraduated),DATE(jobStartDate) from CastExample\")\n"
   ]
  },
  {
   "cell_type": "code",
   "execution_count": 9,
   "metadata": {
    "id": "18o3qtXMClbH"
   },
   "outputs": [],
   "source": [
    "from pyspark.sql.types import IntegerType,BooleanType,DateType\n",
    "# cleaner_review_df = cleaner_review_df.withColumn(\"customer_id\",cleaner_review_df.customer_id.cast(IntegerType()))\n",
    "\n",
    "# cleaner_review_df = cleaner_review_df.withColumn(\"product_parent\",cleaner_review_df.product_parent.cast(IntegerType()))\n",
    "# cleaner_review_df = cleaner_review_df.withColumn(\"star_rating\",cleaner_review_df.star_rating.cast(IntegerType()))\n",
    "# cleaner_review_df = cleaner_review_df.withColumn(\"helpful_votes\",cleaner_review_df.helpful_votes.cast(IntegerType()))\n",
    "# cleaner_review_df = cleaner_review_df.withColumn(\"total_votes\",cleaner_review_df.total_votes.cast(IntegerType()))\n",
    "\n",
    "cleaner_review_df = cleaner_review_df.withColumn(\"review_date\",cleaner_review_df.review_date.cast(DateType()))"
   ]
  },
  {
   "cell_type": "code",
   "execution_count": 10,
   "metadata": {
    "colab": {
     "base_uri": "https://localhost:8080/"
    },
    "id": "W14xkPK8Cmsi",
    "outputId": "3317e273-cf1f-48ba-95ef-ded2244d7b3b"
   },
   "outputs": [
    {
     "name": "stdout",
     "output_type": "stream",
     "text": [
      "root\n",
      " |-- marketplace: string (nullable = true)\n",
      " |-- customer_id: integer (nullable = true)\n",
      " |-- review_id: string (nullable = true)\n",
      " |-- product_id: string (nullable = true)\n",
      " |-- product_parent: integer (nullable = true)\n",
      " |-- product_title: string (nullable = true)\n",
      " |-- product_category: string (nullable = true)\n",
      " |-- star_rating: integer (nullable = true)\n",
      " |-- helpful_votes: integer (nullable = true)\n",
      " |-- total_votes: integer (nullable = true)\n",
      " |-- vine: string (nullable = true)\n",
      " |-- verified_purchase: string (nullable = true)\n",
      " |-- review_headline: string (nullable = true)\n",
      " |-- review_body: string (nullable = true)\n",
      " |-- review_date: date (nullable = true)\n",
      "\n"
     ]
    }
   ],
   "source": [
    "cleaner_review_df.printSchema()"
   ]
  },
  {
   "cell_type": "code",
   "execution_count": 11,
   "metadata": {
    "colab": {
     "base_uri": "https://localhost:8080/"
    },
    "id": "EmDIsdZIgFeV",
    "outputId": "d260ddff-6ed8-4e40-bf48-66bcfa57f316"
   },
   "outputs": [
    {
     "name": "stdout",
     "output_type": "stream",
     "text": [
      "+--------------+-----------+----------+--------------+-----------+\n",
      "|     review_id|customer_id|product_id|product_parent|review_date|\n",
      "+--------------+-----------+----------+--------------+-----------+\n",
      "|R1005P9J6VW5R3|   52047618|B004T34BA4|     767857880| 2013-08-22|\n",
      "|R100G8CW43Z88H|   44491134|B00198KP7K|     483989260| 2014-01-11|\n",
      "|R100GVZLWL8W5W|   27118518|B00021FLQK|      35303180| 2013-06-08|\n",
      "|R100X0TTGJ0DJO|   11396402|B00GSPHS1U|     884654147| 2014-08-29|\n",
      "|R10163CIAEURW2|   18683796|B001Q3M80U|     318115509| 2013-05-25|\n",
      "|R101FKJY32QC1H|   15669933|B006IE17IG|     182631652| 2013-01-01|\n",
      "|R101XR37UEXIQP|   33446506|B00008W71T|     489049465| 2004-04-06|\n",
      "|R1025TDS5CIURA|   53010138|B000CSS520|     465533388| 2007-05-30|\n",
      "|R1026XUCSMBLNC|   40950391|B0013AV9AG|     627907179| 2013-03-15|\n",
      "|R102R94KOSEH61|   45904960|B001E8NXG0|      59904235| 2013-01-09|\n",
      "|R103VFU1DTRU2F|   12435754|B00K2KQ2QO|     406215080| 2014-07-18|\n",
      "|R103WHKEGIHZ5T|   20916354|B002S42A3Q|     613355079| 2013-08-14|\n",
      "| R104WQ0IJLWPD|   35420011|B000CFOUEU|     661887017| 2006-07-18|\n",
      "|R104XSCHM7NF6C|   14036055|B001HB35JO|     650928972| 2015-05-30|\n",
      "|R1053WQGHQS0KQ|   20977856|B00H4D2U9K|     989109742| 2014-09-11|\n",
      "|R105BXSC4LHYJN|    9471984|B0012XWTGW|     950149733| 2013-07-04|\n",
      "|R105I9QSUWN4BS|   20615336|B00CAB5AAW|     926868939| 2015-05-15|\n",
      "|R1061TMISR0DIS|    5186398|B00P5DTFGW|     736423725| 2014-11-03|\n",
      "|R106CK1S9868OG|   12919744|B00025H2PY|     592807498| 2012-12-28|\n",
      "|R106M2R7WEVYCT|   51892033|B004REK370|     811740234| 2014-12-16|\n",
      "+--------------+-----------+----------+--------------+-----------+\n",
      "only showing top 20 rows\n",
      "\n"
     ]
    }
   ],
   "source": [
    "review_id_df = cleaner_review_df.select([\"review_id\", \"customer_id\", \"product_id\", \"product_parent\", \"review_date\"])\n",
    "review_id_df.show()"
   ]
  },
  {
   "cell_type": "code",
   "execution_count": 12,
   "metadata": {
    "colab": {
     "base_uri": "https://localhost:8080/"
    },
    "id": "-eZHIsqEgGGd",
    "outputId": "76123610-924a-45e7-fdd3-e8a3fda46ef6"
   },
   "outputs": [
    {
     "name": "stdout",
     "output_type": "stream",
     "text": [
      "+----------+--------------------+\n",
      "|product_id|       product_title|\n",
      "+----------+--------------------+\n",
      "|B004T34BA4|Achla Designs Hea...|\n",
      "|B00198KP7K|Grill Daddy Repla...|\n",
      "|B00021FLQK|Mr. Bar-B-Q Plati...|\n",
      "|B00GSPHS1U|Intex Sand Filter...|\n",
      "|B001Q3M80U|Jack Post CG-12Z ...|\n",
      "|B006IE17IG|STC EGH520 Portab...|\n",
      "|B00008W71T|Weber Slide Aside...|\n",
      "|B000CSS520|Troy-Bilt Pony 6....|\n",
      "|B0013AV9AG|Black & Decker CV...|\n",
      "|B001E8NXG0|Achla Designs Din...|\n",
      "|B00K2KQ2QO|KINGLAKE 100PCS W...|\n",
      "|B002S42A3Q|Heavy Duty Replac...|\n",
      "|B000CFOUEU|Rubbermaid  Horiz...|\n",
      "|B001HB35JO|Songbird Essentia...|\n",
      "|B00H4D2U9K|Eley Wall Mount G...|\n",
      "|B0012XWTGW|Heavenly Blue Mor...|\n",
      "|B00CAB5AAW|Buddha of Compass...|\n",
      "|B00P5DTFGW|1/4 Lb (113 Grams...|\n",
      "|B00025H2PY|Diatomaceous Eart...|\n",
      "|B004REK370|Char-Broil Stainl...|\n",
      "+----------+--------------------+\n",
      "only showing top 20 rows\n",
      "\n"
     ]
    }
   ],
   "source": [
    "products_df = cleaner_review_df.select([\"product_id\", \"product_title\"])\n",
    "products_df.show()"
   ]
  },
  {
   "cell_type": "code",
   "execution_count": 13,
   "metadata": {
    "colab": {
     "base_uri": "https://localhost:8080/"
    },
    "id": "JGoXdTnbcodl",
    "outputId": "55806f04-3757-476d-9da0-b625e37b9537"
   },
   "outputs": [
    {
     "data": {
      "text/plain": [
       "2557005"
      ]
     },
     "execution_count": 13,
     "metadata": {},
     "output_type": "execute_result"
    }
   ],
   "source": [
    "products_df.count()"
   ]
  },
  {
   "cell_type": "code",
   "execution_count": 14,
   "metadata": {
    "colab": {
     "base_uri": "https://localhost:8080/"
    },
    "id": "lYuCYWuv_9ck",
    "outputId": "5726acff-872d-4b2b-ec42-5fd9e8cdba5e"
   },
   "outputs": [
    {
     "name": "stdout",
     "output_type": "stream",
     "text": [
      "+-----------+--------------+\n",
      "|customer_id|customer_count|\n",
      "+-----------+--------------+\n",
      "|   13507163|             1|\n",
      "|   42192220|             3|\n",
      "|   16022693|             2|\n",
      "|   17054071|             1|\n",
      "|   31950090|             3|\n",
      "|   23669123|             1|\n",
      "|   20901680|             1|\n",
      "|   51281657|             5|\n",
      "|   42050941|             2|\n",
      "|   47844876|             2|\n",
      "|   23745825|             1|\n",
      "|   51168318|             1|\n",
      "|   16181580|             2|\n",
      "|   50699952|            15|\n",
      "|   43483731|             8|\n",
      "|    2050707|             1|\n",
      "|   47884795|             1|\n",
      "|    4712293|             1|\n",
      "|   37267422|             2|\n",
      "|   11760241|             2|\n",
      "+-----------+--------------+\n",
      "only showing top 20 rows\n",
      "\n"
     ]
    }
   ],
   "source": [
    "customers_df = cleaner_review_df.groupby([\"customer_id\"]).count()\n",
    "customers_df =customers_df.withColumnRenamed('count' , 'customer_count')\n",
    "# df.rename(columns={'oldName1': 'newName1', 'oldName2': 'newName2'}, inplace=True)\n",
    "# df_bostonLegible = df_boston.withColumnRenamed(\"zn\", \"Zoning\")\n",
    "customers_df.show()"
   ]
  },
  {
   "cell_type": "code",
   "execution_count": 15,
   "metadata": {
    "colab": {
     "base_uri": "https://localhost:8080/"
    },
    "id": "ytC08J4igHEx",
    "outputId": "a3693634-ffa3-4e42-b037-e1fb50f634ef"
   },
   "outputs": [
    {
     "name": "stdout",
     "output_type": "stream",
     "text": [
      "+--------------+-----------+-------------+-----------+----+\n",
      "|     review_id|star_rating|helpful_votes|total_votes|vine|\n",
      "+--------------+-----------+-------------+-----------+----+\n",
      "|R1005P9J6VW5R3|          2|            5|          5|   N|\n",
      "|R100G8CW43Z88H|          1|            1|          1|   N|\n",
      "|R100GVZLWL8W5W|          5|            0|          0|   N|\n",
      "|R100X0TTGJ0DJO|          5|            0|          0|   N|\n",
      "|R10163CIAEURW2|          5|            4|          4|   N|\n",
      "|R101FKJY32QC1H|          3|            0|          0|   N|\n",
      "|R101XR37UEXIQP|          5|           24|         24|   N|\n",
      "|R1025TDS5CIURA|          3|            4|          5|   N|\n",
      "|R1026XUCSMBLNC|          5|            0|          0|   N|\n",
      "|R102R94KOSEH61|          5|            1|          1|   N|\n",
      "|R103VFU1DTRU2F|          5|            0|          0|   N|\n",
      "|R103WHKEGIHZ5T|          5|            0|          0|   N|\n",
      "| R104WQ0IJLWPD|          4|            5|          7|   N|\n",
      "|R104XSCHM7NF6C|          2|            0|          0|   N|\n",
      "|R1053WQGHQS0KQ|          5|            1|          1|   N|\n",
      "|R105BXSC4LHYJN|          5|            1|          2|   N|\n",
      "|R105I9QSUWN4BS|          5|            0|          0|   N|\n",
      "|R1061TMISR0DIS|          5|            0|          0|   N|\n",
      "|R106CK1S9868OG|          1|            1|          4|   N|\n",
      "|R106M2R7WEVYCT|          3|            0|          0|   N|\n",
      "+--------------+-----------+-------------+-----------+----+\n",
      "only showing top 20 rows\n",
      "\n"
     ]
    }
   ],
   "source": [
    "vine_table_df = cleaner_review_df.select([\"review_id\", \"star_rating\", \"helpful_votes\", \"total_votes\", \"vine\"])\n",
    "vine_table_df.show()\n"
   ]
  },
  {
   "cell_type": "code",
   "execution_count": 15,
   "metadata": {
    "id": "z6vfEypcgHgK"
   },
   "outputs": [],
   "source": []
  },
  {
   "cell_type": "code",
   "execution_count": 15,
   "metadata": {
    "id": "1PZUA96qgIMt"
   },
   "outputs": [],
   "source": []
  },
  {
   "cell_type": "markdown",
   "metadata": {
    "id": "kQgPpNnVnRwh"
   },
   "source": [
    "Postgres Setup"
   ]
  },
  {
   "cell_type": "code",
   "execution_count": null,
   "metadata": {
    "id": "985Vl1dtmpVU"
   },
   "outputs": [],
   "source": [
    "\n",
    "\n",
    "\n",
    "#  Configure settings for RDS\n",
    "mode = \"append\"\n",
    "jdbc_url=\"jdbc:postgresql://mypostgresdb.cl5tdbfnev78.us-east-2.rds.amazonaws.com:5432/HW\"\n",
    "config = {\"user\":\"root\", \n",
    "          \"password\": \"xxrdexx\", \n",
    "          \"driver\":\"org.postgresql.Driver\"}\n"
   ]
  },
  {
   "cell_type": "code",
   "execution_count": 16,
   "metadata": {
    "id": "C9ErE-vyr41A"
   },
   "outputs": [],
   "source": []
  },
  {
   "cell_type": "code",
   "execution_count": 16,
   "metadata": {
    "id": "BArWfJDxuKZ7"
   },
   "outputs": [],
   "source": []
  },
  {
   "cell_type": "code",
   "execution_count": 17,
   "metadata": {
    "id": "9yyZgvcUnaNN"
   },
   "outputs": [],
   "source": [
    "# Write DataFrame to review_id_table in RDS\n",
    "\n",
    "review_id_df.write.jdbc(url=jdbc_url, table='review_id_table', mode=mode, properties=config)"
   ]
  },
  {
   "cell_type": "code",
   "execution_count": 17,
   "metadata": {
    "id": "8rsTf2kmna3V"
   },
   "outputs": [],
   "source": []
  },
  {
   "cell_type": "code",
   "execution_count": 17,
   "metadata": {
    "id": "_NcPu5bWrekA"
   },
   "outputs": [],
   "source": []
  },
  {
   "cell_type": "code",
   "execution_count": 18,
   "metadata": {
    "id": "9q6Bm3kAncqx"
   },
   "outputs": [],
   "source": [
    "# Write dataframe to customers table in RDS\n",
    "customers_df.write.jdbc(url=jdbc_url, table='customers', mode=mode, properties=config)"
   ]
  },
  {
   "cell_type": "code",
   "execution_count": 19,
   "metadata": {
    "id": "Kx3hMnlAD5FA"
   },
   "outputs": [],
   "source": [
    "# Write dataframe to vine_table table in RDS\n",
    "vine_table_df.write.jdbc(url=jdbc_url, table='vine_table', mode=mode, properties=config)"
   ]
  },
  {
   "cell_type": "code",
   "execution_count": null,
   "metadata": {
    "colab": {
     "base_uri": "https://localhost:8080/",
     "height": 1000
    },
    "id": "n9eUfH1q1O9Z",
    "outputId": "d13b7aff-e9b9-4bf2-a901-d2b4bf5ffd83"
   },
   "outputs": [],
   "source": [
    "# Write dataframe to products table in RDS\n",
    "products_df.write.jdbc(url=jdbc_url, table='products', mode=mode, properties=config)"
   ]
  }
 ],
 "metadata": {
  "colab": {
   "name": "NotebookHW1.ipynb",
   "provenance": []
  },
  "kernelspec": {
   "display_name": "Python 3",
   "language": "python",
   "name": "python3"
  },
  "language_info": {
   "codemirror_mode": {
    "name": "ipython",
    "version": 3
   },
   "file_extension": ".py",
   "mimetype": "text/x-python",
   "name": "python",
   "nbconvert_exporter": "python",
   "pygments_lexer": "ipython3",
   "version": "3.6.10"
  },
  "latex_envs": {
   "LaTeX_envs_menu_present": true,
   "autoclose": false,
   "autocomplete": true,
   "bibliofile": "biblio.bib",
   "cite_by": "apalike",
   "current_citInitial": 1,
   "eqLabelWithNumbers": true,
   "eqNumInitial": 1,
   "hotkeys": {
    "equation": "Ctrl-E",
    "itemize": "Ctrl-I"
   },
   "labels_anchors": false,
   "latex_user_defs": false,
   "report_style_numbering": false,
   "user_envs_cfg": false
  }
 },
 "nbformat": 4,
 "nbformat_minor": 1
}
